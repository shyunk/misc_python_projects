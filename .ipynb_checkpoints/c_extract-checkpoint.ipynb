{
 "cells": [
  {
   "cell_type": "code",
   "execution_count": 87,
   "metadata": {},
   "outputs": [],
   "source": [
    "import urllib\n",
    "from bs4 import BeautifulSoup\n",
    "import re # for regex\n",
    "import pandas as pd #database\n",
    "import csv \n",
    "import random"
   ]
  },
  {
   "cell_type": "code",
   "execution_count": 100,
   "metadata": {},
   "outputs": [],
   "source": [
    "soup = BeautifulSoup(open(\"phrd2.html\"), \"html.parser\") \n",
    "# kill all script and style elements\n",
    "for script in soup([\"script\", \"style\"]):\n",
    "    script.extract()    # rip it out\n",
    "\n",
    "# get text\n",
    "text = soup.get_text() \n",
    "\n",
    "# break into lines and remove leading and trailing space on each\n",
    "lines = (line.strip() for line in text.splitlines())\n",
    "# break multi-headlines into a line each\n",
    "chunks = (phrase.strip() for line in lines for phrase in line.split(\"  \"))\n",
    "# drop blank lines\n",
    "text = '\\n'.join(chunk for chunk in chunks if chunk)\n",
    "# set up regular expressions\n",
    "sgroup='M Group \\d*'\n",
    "#re.findall(sgroup,text)\n",
    "\n",
    "bigger='Edit (?P<sname>.*)\\''\n",
    "merged=r'M Group (\\d*)|Edit (?P<sname>.*)\\''\n",
    "grouplist=re.findall(merged,text)\n",
    "print(grouplist)\n",
    "list1=[]\n",
    "for x in grouplist:\n",
    "    if x[0]!='':\n",
    "        list1.append(int(x[0]))\n",
    "    else:\n",
    "        list1.append(x[1])\n",
    "        \n",
    "print(list1)\n",
    "\n",
    "listgroup=[]\n",
    "listname=[]\n",
    "withingrp=0\n",
    "grpnum=0\n",
    "rndsaver=[]\n",
    "for y in list1:\n",
    "    if isinstance(y, int):\n",
    "        listgroup.append(y)\n",
    "        withingrp=0\n",
    "        grpnum+=1\n",
    "        rndsaver=[]\n",
    "    else:\n",
    "        withingrp+=1\n",
    "        rndnumber=random.randint(1,6)\n",
    "        while rndnumber in rndsaver:\n",
    "            rndnumber=random.randint(1,6)\n",
    "        if rndnumber not in rndsaver:\n",
    "            listname.append((grpnum,y,rndnumber))\n",
    "            rndsaver.append(rndnumber)\n",
    "        \n",
    "df = pd.DataFrame(listname)\n",
    "df.columns=['groupnumber','student name','perspective']\n",
    "print(df)\n",
    "df.to_csv('C:/Users/kwonsue/Documents/GitHub/yeslist.csv')\n"
   ]
  }
 ],
 "metadata": {
  "kernelspec": {
   "display_name": "Python 3",
   "language": "python",
   "name": "python3"
  },
  "language_info": {
   "codemirror_mode": {
    "name": "ipython",
    "version": 3
   },
   "file_extension": ".py",
   "mimetype": "text/x-python",
   "name": "python",
   "nbconvert_exporter": "python",
   "pygments_lexer": "ipython3",
   "version": "3.6.5"
  }
 },
 "nbformat": 4,
 "nbformat_minor": 2
}
